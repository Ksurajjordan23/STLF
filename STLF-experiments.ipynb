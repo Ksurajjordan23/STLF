version https://git-lfs.github.com/spec/v1
oid sha256:250e9e2c66eccb300f263162e55d6fe824fcce68ca188fdab643ab28d021dc97
size 87470961
